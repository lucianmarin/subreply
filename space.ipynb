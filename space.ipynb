{
 "cells": [
  {
   "cell_type": "code",
   "execution_count": 21,
   "metadata": {},
   "outputs": [
    {
     "output_type": "execute_result",
     "data": {
      "text/plain": "('50y, 29w', 2020)"
     },
     "metadata": {},
     "execution_count": 21
    }
   ],
   "source": [
    "from app.filters import shortdate\n",
    "from datetime import datetime\n",
    "shortdate(123123), datetime.now().year"
   ]
  },
  {
   "cell_type": "code",
   "execution_count": 23,
   "metadata": {},
   "outputs": [
    {
     "output_type": "execute_result",
     "data": {
      "text/plain": "'first / second / third'"
     },
     "metadata": {},
     "execution_count": 23
    }
   ],
   "source": [
    "from num2words import num2words\n",
    "t = 'ordinal'\n",
    "num2words(1, to=t) + ' / ' + num2words(2, to=t) + ' / ' + num2words(3, to=t)"
   ]
  },
  {
   "cell_type": "code",
   "execution_count": null,
   "metadata": {},
   "outputs": [],
   "source": []
  }
 ],
 "metadata": {
  "language_info": {
   "name": "python",
   "codemirror_mode": {
    "name": "ipython",
    "version": 3
   },
   "version": "3.7.7-final"
  },
  "orig_nbformat": 2,
  "file_extension": ".py",
  "mimetype": "text/x-python",
  "name": "python",
  "npconvert_exporter": "python",
  "pygments_lexer": "ipython3",
  "version": 3,
  "kernelspec": {
   "name": "python_defaultSpec_1594843736661",
   "display_name": "Python 3.7.7 64-bit"
  }
 },
 "nbformat": 4,
 "nbformat_minor": 2
}